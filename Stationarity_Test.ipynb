{
 "cells": [
  {
   "cell_type": "code",
   "execution_count": 1,
   "id": "a73b81a8",
   "metadata": {},
   "outputs": [],
   "source": [
    "import pandas as pd\n",
    "import matplotlib.pyplot as plt\n",
    "import statsmodels.tsa.stattools as tsa\n"
   ]
  },
  {
   "cell_type": "code",
   "execution_count": 2,
   "id": "deeef7ba",
   "metadata": {},
   "outputs": [],
   "source": [
    "data_orig = pd.read_csv('quebec_real_estate.csv')\n"
   ]
  },
  {
   "cell_type": "code",
   "execution_count": 3,
   "id": "c9ada8ef",
   "metadata": {},
   "outputs": [],
   "source": [
    "data_orig['Date'] = pd.to_datetime(data_orig['Date']) # convert date column to DateTime\n"
   ]
  },
  {
   "cell_type": "code",
   "execution_count": 4,
   "id": "8836427a",
   "metadata": {},
   "outputs": [
    {
     "data": {
      "text/html": [
       "<div>\n",
       "<style scoped>\n",
       "    .dataframe tbody tr th:only-of-type {\n",
       "        vertical-align: middle;\n",
       "    }\n",
       "\n",
       "    .dataframe tbody tr th {\n",
       "        vertical-align: top;\n",
       "    }\n",
       "\n",
       "    .dataframe thead th {\n",
       "        text-align: right;\n",
       "    }\n",
       "</style>\n",
       "<table border=\"1\" class=\"dataframe\">\n",
       "  <thead>\n",
       "    <tr style=\"text-align: right;\">\n",
       "      <th></th>\n",
       "      <th>Date</th>\n",
       "      <th>Province_Median_Price</th>\n",
       "      <th>Province_Average_Time</th>\n",
       "      <th>Montreal_Median_Price</th>\n",
       "      <th>Montreal_Average_Time</th>\n",
       "    </tr>\n",
       "  </thead>\n",
       "  <tbody>\n",
       "    <tr>\n",
       "      <th>0</th>\n",
       "      <td>2014-01-01</td>\n",
       "      <td>210000</td>\n",
       "      <td>135</td>\n",
       "      <td>220000</td>\n",
       "      <td>124</td>\n",
       "    </tr>\n",
       "    <tr>\n",
       "      <th>1</th>\n",
       "      <td>2014-02-01</td>\n",
       "      <td>212000</td>\n",
       "      <td>128</td>\n",
       "      <td>225000</td>\n",
       "      <td>117</td>\n",
       "    </tr>\n",
       "    <tr>\n",
       "      <th>2</th>\n",
       "      <td>2014-03-01</td>\n",
       "      <td>210000</td>\n",
       "      <td>130</td>\n",
       "      <td>225000</td>\n",
       "      <td>118</td>\n",
       "    </tr>\n",
       "    <tr>\n",
       "      <th>3</th>\n",
       "      <td>2014-04-01</td>\n",
       "      <td>214000</td>\n",
       "      <td>120</td>\n",
       "      <td>225000</td>\n",
       "      <td>113</td>\n",
       "    </tr>\n",
       "    <tr>\n",
       "      <th>4</th>\n",
       "      <td>2014-05-01</td>\n",
       "      <td>215000</td>\n",
       "      <td>125</td>\n",
       "      <td>226287</td>\n",
       "      <td>115</td>\n",
       "    </tr>\n",
       "    <tr>\n",
       "      <th>...</th>\n",
       "      <td>...</td>\n",
       "      <td>...</td>\n",
       "      <td>...</td>\n",
       "      <td>...</td>\n",
       "      <td>...</td>\n",
       "    </tr>\n",
       "    <tr>\n",
       "      <th>84</th>\n",
       "      <td>2021-01-01</td>\n",
       "      <td>290000</td>\n",
       "      <td>67</td>\n",
       "      <td>322000</td>\n",
       "      <td>53</td>\n",
       "    </tr>\n",
       "    <tr>\n",
       "      <th>85</th>\n",
       "      <td>2021-02-01</td>\n",
       "      <td>300000</td>\n",
       "      <td>60</td>\n",
       "      <td>340000</td>\n",
       "      <td>48</td>\n",
       "    </tr>\n",
       "    <tr>\n",
       "      <th>86</th>\n",
       "      <td>2021-03-01</td>\n",
       "      <td>315000</td>\n",
       "      <td>54</td>\n",
       "      <td>347065</td>\n",
       "      <td>44</td>\n",
       "    </tr>\n",
       "    <tr>\n",
       "      <th>87</th>\n",
       "      <td>2021-04-01</td>\n",
       "      <td>330000</td>\n",
       "      <td>53</td>\n",
       "      <td>357750</td>\n",
       "      <td>42</td>\n",
       "    </tr>\n",
       "    <tr>\n",
       "      <th>88</th>\n",
       "      <td>2021-05-01</td>\n",
       "      <td>339000</td>\n",
       "      <td>49</td>\n",
       "      <td>365000</td>\n",
       "      <td>41</td>\n",
       "    </tr>\n",
       "  </tbody>\n",
       "</table>\n",
       "<p>89 rows × 5 columns</p>\n",
       "</div>"
      ],
      "text/plain": [
       "         Date  Province_Median_Price  Province_Average_Time  \\\n",
       "0  2014-01-01                 210000                    135   \n",
       "1  2014-02-01                 212000                    128   \n",
       "2  2014-03-01                 210000                    130   \n",
       "3  2014-04-01                 214000                    120   \n",
       "4  2014-05-01                 215000                    125   \n",
       "..        ...                    ...                    ...   \n",
       "84 2021-01-01                 290000                     67   \n",
       "85 2021-02-01                 300000                     60   \n",
       "86 2021-03-01                 315000                     54   \n",
       "87 2021-04-01                 330000                     53   \n",
       "88 2021-05-01                 339000                     49   \n",
       "\n",
       "    Montreal_Median_Price  Montreal_Average_Time  \n",
       "0                  220000                    124  \n",
       "1                  225000                    117  \n",
       "2                  225000                    118  \n",
       "3                  225000                    113  \n",
       "4                  226287                    115  \n",
       "..                    ...                    ...  \n",
       "84                 322000                     53  \n",
       "85                 340000                     48  \n",
       "86                 347065                     44  \n",
       "87                 357750                     42  \n",
       "88                 365000                     41  \n",
       "\n",
       "[89 rows x 5 columns]"
      ]
     },
     "execution_count": 4,
     "metadata": {},
     "output_type": "execute_result"
    }
   ],
   "source": [
    "data_orig"
   ]
  },
  {
   "cell_type": "markdown",
   "id": "cafb45fc",
   "metadata": {},
   "source": [
    "The null(H0) and alternate hypothesis(H1) of this test are:\n",
    "\n",
    "H0: The series has a unit root (value of a =1),the series is non-stationary.\n",
    "\n",
    "H1: The series has no unit root, the series is stationary.\n",
    "\n",
    "If we cannot reject the null hypothesis, we can say that the series is not stationary, and if we do, it is stationary. If the series is not stationary it means it can be linear or constant different.\n",
    "\n",
    "Let’s run the ADF test!"
   ]
  },
  {
   "cell_type": "code",
   "execution_count": 5,
   "id": "19410d2e",
   "metadata": {},
   "outputs": [],
   "source": [
    "def adf_test(ts):\n",
    "    print(\"Dickey-Fuller Test Sonucu : \")\n",
    "    df_test = tsa.adfuller(ts,autolag=\"AIC\")\n",
    "    df_out = pd.Series(df_test[0:4],index=['test Instatistigi','p-value',\"#Lags\",\"Gozlem Sayisi\"])\n",
    "    for key,value in df_test[4].items():\n",
    "        df_out['Kritik Deger (%s)'%key] = value\n",
    "    print(df_out)\n",
    "    print(\"Non-Stationary\") if p_value > 0.05 else print(\"Stationary\")\n",
    "\n",
    "                                           "
   ]
  },
  {
   "cell_type": "code",
   "execution_count": 6,
   "id": "3e5175cc",
   "metadata": {},
   "outputs": [
    {
     "name": "stdout",
     "output_type": "stream",
     "text": [
      "Dickey-Fuller Test Sonucu : \n",
      "test Instatistigi      3.414756\n",
      "p-value                1.000000\n",
      "#Lags                 12.000000\n",
      "Gozlem Sayisi         76.000000\n",
      "Kritik Deger (1%)     -3.519481\n",
      "Kritik Deger (5%)     -2.900395\n",
      "Kritik Deger (10%)    -2.587498\n",
      "dtype: float64\n"
     ]
    }
   ],
   "source": [
    "adf_test(data_orig[\"Montreal_Median_Price\"])"
   ]
  },
  {
   "cell_type": "code",
   "execution_count": 7,
   "id": "13fde834",
   "metadata": {},
   "outputs": [
    {
     "name": "stdout",
     "output_type": "stream",
     "text": [
      "Dickey-Fuller Test Sonucu : \n",
      "test Instatistigi      2.921531\n",
      "p-value                1.000000\n",
      "#Lags                  8.000000\n",
      "Gozlem Sayisi         80.000000\n",
      "Kritik Deger (1%)     -3.514869\n",
      "Kritik Deger (5%)     -2.898409\n",
      "Kritik Deger (10%)    -2.586439\n",
      "dtype: float64\n"
     ]
    }
   ],
   "source": [
    "adf_test(data_orig[\"Province_Median_Price\"])"
   ]
  },
  {
   "cell_type": "markdown",
   "id": "18857e83",
   "metadata": {},
   "source": [
    "The ADF tests gives the results of test statistic, p value and the critical value at 1%, 5% , and 10% confidence intervals.\n",
    "\n",
    "If test statistic<critical value\n",
    "\n",
    "then we can reject the null hypothesis .\n",
    "\n",
    "If test statistic >critical value\n",
    "\n",
    "then we fail to reject the null hypothesis (which means the series is not stationary).\n",
    "\n",
    "According to the Stationary Test result, since the p-value is is greater than 0.05 (p>0.05), H0 cannot be rejected (i.e. acceptance), the data has a unit root and the series is not stationary (at the same time, the test statistic is greater than the critical value)."
   ]
  },
  {
   "cell_type": "code",
   "execution_count": 8,
   "id": "a1c7f62f",
   "metadata": {},
   "outputs": [],
   "source": [
    "from statsmodels.tsa.stattools import kpss\n",
    "def kpss_test(ts):\n",
    "    t_stat, p_value, _, critical_values = kpss(ts, nlags='auto')\n",
    "\n",
    "    print(f'ADF Statistic: {t_stat:.2f}')\n",
    "    for key, value in critical_values.items():\n",
    "         print('Critial Values:')\n",
    "         print(f'   {key}, {value:.2f}')\n",
    "\n",
    "    print(f'\\np-value: {p_value:.2f}')\n",
    "    print(\"Stationary\") if p_value > 0.05 else print(\"Non-Stationary\")"
   ]
  },
  {
   "cell_type": "code",
   "execution_count": 9,
   "id": "ebdbbf0f",
   "metadata": {},
   "outputs": [
    {
     "name": "stdout",
     "output_type": "stream",
     "text": [
      "ADF Statistic: 1.31\n",
      "Critial Values:\n",
      "   10%, 0.35\n",
      "Critial Values:\n",
      "   5%, 0.46\n",
      "Critial Values:\n",
      "   2.5%, 0.57\n",
      "Critial Values:\n",
      "   1%, 0.74\n",
      "\n",
      "p-value: 0.01\n",
      "Non-Stationary\n"
     ]
    },
    {
     "name": "stderr",
     "output_type": "stream",
     "text": [
      "C:\\Users\\Jitender_bhatt\\Anaconda3\\lib\\site-packages\\statsmodels\\tsa\\stattools.py:1906: InterpolationWarning: The test statistic is outside of the range of p-values available in the\n",
      "look-up table. The actual p-value is smaller than the p-value returned.\n",
      "\n",
      "  warnings.warn(\n"
     ]
    }
   ],
   "source": [
    "kpss_test(data_orig[\"Montreal_Median_Price\"])"
   ]
  },
  {
   "cell_type": "code",
   "execution_count": null,
   "id": "e9514838",
   "metadata": {},
   "outputs": [],
   "source": []
  }
 ],
 "metadata": {
  "kernelspec": {
   "display_name": "Python 3 (ipykernel)",
   "language": "python",
   "name": "python3"
  },
  "language_info": {
   "codemirror_mode": {
    "name": "ipython",
    "version": 3
   },
   "file_extension": ".py",
   "mimetype": "text/x-python",
   "name": "python",
   "nbconvert_exporter": "python",
   "pygments_lexer": "ipython3",
   "version": "3.9.7"
  }
 },
 "nbformat": 4,
 "nbformat_minor": 5
}
