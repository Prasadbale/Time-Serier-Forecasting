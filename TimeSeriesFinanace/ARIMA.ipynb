{
 "cells": [
  {
   "cell_type": "code",
   "execution_count": 1,
   "metadata": {},
   "outputs": [],
   "source": [
    "#!pipenv install --skip-lock pmdarima\n",
    "#!pipenv install --skip-lock matplotlib\n",
    "#!pipenv install --skip-lock nb-black"
   ]
  },
  {
   "cell_type": "code",
   "execution_count": 2,
   "metadata": {},
   "outputs": [
    {
     "name": "stdout",
     "output_type": "stream",
     "text": [
      "Requirement already satisfied: nb-black in c:\\users\\jitender_bhatt\\anaconda3\\lib\\site-packages (1.0.7)Note: you may need to restart the kernel to use updated packages.\n",
      "Requirement already satisfied: black>='19.3' in c:\\users\\jitender_bhatt\\anaconda3\\lib\\site-packages (from nb-black) (19.10b0)\n",
      "Requirement already satisfied: ipython in c:\\users\\jitender_bhatt\\anaconda3\\lib\\site-packages (from nb-black) (7.29.0)\n",
      "Requirement already satisfied: click>=6.5 in c:\\users\\jitender_bhatt\\anaconda3\\lib\\site-packages (from black>='19.3'->nb-black) (8.0.3)\n",
      "Requirement already satisfied: typed-ast>=1.4.0 in c:\\users\\jitender_bhatt\\anaconda3\\lib\\site-packages (from black>='19.3'->nb-black) (1.4.3)\n",
      "Requirement already satisfied: toml>=0.9.4 in c:\\users\\jitender_bhatt\\anaconda3\\lib\\site-packages (from black>='19.3'->nb-black) (0.10.2)\n",
      "Requirement already satisfied: pathspec<1,>=0.6 in c:\\users\\jitender_bhatt\\anaconda3\\lib\\site-packages (from black>='19.3'->nb-black) (0.7.0)\n",
      "\n",
      "Requirement already satisfied: regex in c:\\users\\jitender_bhatt\\anaconda3\\lib\\site-packages (from black>='19.3'->nb-black) (2021.8.3)\n",
      "Requirement already satisfied: appdirs in c:\\users\\jitender_bhatt\\anaconda3\\lib\\site-packages (from black>='19.3'->nb-black) (1.4.4)\n",
      "Requirement already satisfied: attrs>=18.1.0 in c:\\users\\jitender_bhatt\\anaconda3\\lib\\site-packages (from black>='19.3'->nb-black) (21.2.0)\n",
      "Requirement already satisfied: colorama in c:\\users\\jitender_bhatt\\anaconda3\\lib\\site-packages (from click>=6.5->black>='19.3'->nb-black) (0.4.4)\n",
      "Requirement already satisfied: traitlets>=4.2 in c:\\users\\jitender_bhatt\\anaconda3\\lib\\site-packages (from ipython->nb-black) (5.1.0)\n",
      "Requirement already satisfied: matplotlib-inline in c:\\users\\jitender_bhatt\\anaconda3\\lib\\site-packages (from ipython->nb-black) (0.1.2)\n",
      "Requirement already satisfied: decorator in c:\\users\\jitender_bhatt\\anaconda3\\lib\\site-packages (from ipython->nb-black) (5.1.0)\n",
      "Requirement already satisfied: jedi>=0.16 in c:\\users\\jitender_bhatt\\anaconda3\\lib\\site-packages (from ipython->nb-black) (0.18.0)\n",
      "Requirement already satisfied: pickleshare in c:\\users\\jitender_bhatt\\anaconda3\\lib\\site-packages (from ipython->nb-black) (0.7.5)\n",
      "Requirement already satisfied: pygments in c:\\users\\jitender_bhatt\\anaconda3\\lib\\site-packages (from ipython->nb-black) (2.10.0)\n",
      "Requirement already satisfied: prompt-toolkit!=3.0.0,!=3.0.1,<3.1.0,>=2.0.0 in c:\\users\\jitender_bhatt\\anaconda3\\lib\\site-packages (from ipython->nb-black) (3.0.20)\n",
      "Requirement already satisfied: setuptools>=18.5 in c:\\users\\jitender_bhatt\\anaconda3\\lib\\site-packages (from ipython->nb-black) (58.0.4)\n",
      "Requirement already satisfied: backcall in c:\\users\\jitender_bhatt\\anaconda3\\lib\\site-packages (from ipython->nb-black) (0.2.0)\n",
      "Requirement already satisfied: parso<0.9.0,>=0.8.0 in c:\\users\\jitender_bhatt\\anaconda3\\lib\\site-packages (from jedi>=0.16->ipython->nb-black) (0.8.2)\n",
      "Requirement already satisfied: wcwidth in c:\\users\\jitender_bhatt\\anaconda3\\lib\\site-packages (from prompt-toolkit!=3.0.0,!=3.0.1,<3.1.0,>=2.0.0->ipython->nb-black) (0.2.5)\n"
     ]
    }
   ],
   "source": [
    "pip install nb-black\n"
   ]
  },
  {
   "cell_type": "code",
   "execution_count": 3,
   "metadata": {},
   "outputs": [
    {
     "name": "stdout",
     "output_type": "stream",
     "text": [
      "Requirement already satisfied: pmdarima in c:\\users\\jitender_bhatt\\anaconda3\\lib\\site-packages (1.8.5)Note: you may need to restart the kernel to use updated packages.\n",
      "Requirement already satisfied: joblib>=0.11 in c:\\users\\jitender_bhatt\\anaconda3\\lib\\site-packages (from pmdarima) (1.1.0)\n",
      "Requirement already satisfied: scikit-learn>=0.22 in c:\\users\\jitender_bhatt\\anaconda3\\lib\\site-packages (from pmdarima) (0.24.2)\n",
      "Requirement already satisfied: numpy>=1.19.3 in c:\\users\\jitender_bhatt\\anaconda3\\lib\\site-packages (from pmdarima) (1.21.6)\n",
      "Requirement already satisfied: Cython!=0.29.18,>=0.29 in c:\\users\\jitender_bhatt\\anaconda3\\lib\\site-packages (from pmdarima) (0.29.24)\n",
      "Requirement already satisfied: scipy>=1.3.2 in c:\\users\\jitender_bhatt\\anaconda3\\lib\\site-packages (from pmdarima) (1.7.1)\n",
      "Requirement already satisfied: pandas>=0.19 in c:\\users\\jitender_bhatt\\anaconda3\\lib\\site-packages (from pmdarima) (1.3.4)\n",
      "Requirement already satisfied: urllib3 in c:\\users\\jitender_bhatt\\anaconda3\\lib\\site-packages (from pmdarima) (1.26.7)\n",
      "Requirement already satisfied: setuptools!=50.0.0,>=38.6.0 in c:\\users\\jitender_bhatt\\anaconda3\\lib\\site-packages (from pmdarima) (58.0.4)\n",
      "Requirement already satisfied: statsmodels!=0.12.0,>=0.11 in c:\\users\\jitender_bhatt\\anaconda3\\lib\\site-packages (from pmdarima) (0.12.2)\n",
      "\n",
      "Requirement already satisfied: python-dateutil>=2.7.3 in c:\\users\\jitender_bhatt\\anaconda3\\lib\\site-packages (from pandas>=0.19->pmdarima) (2.8.2)\n",
      "Requirement already satisfied: pytz>=2017.3 in c:\\users\\jitender_bhatt\\anaconda3\\lib\\site-packages (from pandas>=0.19->pmdarima) (2021.3)\n",
      "Requirement already satisfied: six>=1.5 in c:\\users\\jitender_bhatt\\anaconda3\\lib\\site-packages (from python-dateutil>=2.7.3->pandas>=0.19->pmdarima) (1.16.0)\n",
      "Requirement already satisfied: threadpoolctl>=2.0.0 in c:\\users\\jitender_bhatt\\anaconda3\\lib\\site-packages (from scikit-learn>=0.22->pmdarima) (2.2.0)\n",
      "Requirement already satisfied: patsy>=0.5 in c:\\users\\jitender_bhatt\\anaconda3\\lib\\site-packages (from statsmodels!=0.12.0,>=0.11->pmdarima) (0.5.2)\n"
     ]
    }
   ],
   "source": [
    "pip install pmdarima"
   ]
  },
  {
   "cell_type": "code",
   "execution_count": 4,
   "metadata": {},
   "outputs": [],
   "source": [
    "# check pmdarima\n",
    "from pmdarima.arima import auto_arima"
   ]
  },
  {
   "cell_type": "markdown",
   "metadata": {},
   "source": [
    "### ARIMA\n",
    "\n",
    "ARIMA (AutoRegressive Integrated Moving Average) is a forecasting algorithm based on the idea that the information in the past values of the time series can alone be used to predict the future values.\n",
    "\n",
    "ARIMA models explain a time series based on its own past values, basically its own lags and the lagged forecast errors."
   ]
  },
  {
   "cell_type": "code",
   "execution_count": 6,
   "metadata": {},
   "outputs": [
    {
     "data": {
      "application/javascript": [
       "\n",
       "            setTimeout(function() {\n",
       "                var nbb_cell_id = 6;\n",
       "                var nbb_unformatted_code = \"from IPython.core.debugger import set_trace\\n#beautify Python code automatically using Black\\n%load_ext nb_black   \\n\\nimport pandas as pd\\nimport numpy as np\\nimport os\\nimport matplotlib.pyplot as plt\\nimport time\\n\\nplt.style.use(style=\\\"seaborn\\\")\\n%matplotlib inline\";\n",
       "                var nbb_formatted_code = \"from IPython.core.debugger import set_trace\\n\\n# beautify Python code automatically using Black\\n%load_ext nb_black\\n\\nimport pandas as pd\\nimport numpy as np\\nimport os\\nimport matplotlib.pyplot as plt\\nimport time\\n\\nplt.style.use(style=\\\"seaborn\\\")\\n%matplotlib inline\";\n",
       "                var nbb_cells = Jupyter.notebook.get_cells();\n",
       "                for (var i = 0; i < nbb_cells.length; ++i) {\n",
       "                    if (nbb_cells[i].input_prompt_number == nbb_cell_id) {\n",
       "                        if (nbb_cells[i].get_text() == nbb_unformatted_code) {\n",
       "                             nbb_cells[i].set_text(nbb_formatted_code);\n",
       "                        }\n",
       "                        break;\n",
       "                    }\n",
       "                }\n",
       "            }, 500);\n",
       "            "
      ],
      "text/plain": [
       "<IPython.core.display.Javascript object>"
      ]
     },
     "metadata": {},
     "output_type": "display_data"
    }
   ],
   "source": [
    "from IPython.core.debugger import set_trace\n",
    "\n",
    "# beautify Python code automatically using Black\n",
    "%load_ext nb_black\n",
    "\n",
    "import pandas as pd\n",
    "import numpy as np\n",
    "import os\n",
    "import matplotlib.pyplot as plt\n",
    "import time\n",
    "\n",
    "plt.style.use(style=\"seaborn\")\n",
    "%matplotlib inline"
   ]
  },
  {
   "cell_type": "code",
   "execution_count": 7,
   "metadata": {},
   "outputs": [
    {
     "data": {
      "application/javascript": [
       "\n",
       "            setTimeout(function() {\n",
       "                var nbb_cell_id = 7;\n",
       "                var nbb_unformatted_code = \"df = pd.read_csv(\\\"data/MSFT-1Y-Hourly.csv\\\")\";\n",
       "                var nbb_formatted_code = \"df = pd.read_csv(\\\"data/MSFT-1Y-Hourly.csv\\\")\";\n",
       "                var nbb_cells = Jupyter.notebook.get_cells();\n",
       "                for (var i = 0; i < nbb_cells.length; ++i) {\n",
       "                    if (nbb_cells[i].input_prompt_number == nbb_cell_id) {\n",
       "                        if (nbb_cells[i].get_text() == nbb_unformatted_code) {\n",
       "                             nbb_cells[i].set_text(nbb_formatted_code);\n",
       "                        }\n",
       "                        break;\n",
       "                    }\n",
       "                }\n",
       "            }, 500);\n",
       "            "
      ],
      "text/plain": [
       "<IPython.core.display.Javascript object>"
      ]
     },
     "metadata": {},
     "output_type": "display_data"
    }
   ],
   "source": [
    "df = pd.read_csv(\"data/MSFT-1Y-Hourly.csv\")"
   ]
  },
  {
   "cell_type": "code",
   "execution_count": 8,
   "metadata": {},
   "outputs": [
    {
     "data": {
      "text/html": [
       "<div>\n",
       "<style scoped>\n",
       "    .dataframe tbody tr th:only-of-type {\n",
       "        vertical-align: middle;\n",
       "    }\n",
       "\n",
       "    .dataframe tbody tr th {\n",
       "        vertical-align: top;\n",
       "    }\n",
       "\n",
       "    .dataframe thead th {\n",
       "        text-align: right;\n",
       "    }\n",
       "</style>\n",
       "<table border=\"1\" class=\"dataframe\">\n",
       "  <thead>\n",
       "    <tr style=\"text-align: right;\">\n",
       "      <th></th>\n",
       "      <th>date</th>\n",
       "      <th>open</th>\n",
       "      <th>high</th>\n",
       "      <th>low</th>\n",
       "      <th>close</th>\n",
       "      <th>volume</th>\n",
       "      <th>average</th>\n",
       "      <th>barCount</th>\n",
       "    </tr>\n",
       "  </thead>\n",
       "  <tbody>\n",
       "    <tr>\n",
       "      <th>0</th>\n",
       "      <td>2019-08-07 14:30:00</td>\n",
       "      <td>133.80</td>\n",
       "      <td>133.83</td>\n",
       "      <td>131.82</td>\n",
       "      <td>132.89</td>\n",
       "      <td>35647</td>\n",
       "      <td>132.701</td>\n",
       "      <td>17523</td>\n",
       "    </tr>\n",
       "    <tr>\n",
       "      <th>1</th>\n",
       "      <td>2019-08-07 15:00:00</td>\n",
       "      <td>132.87</td>\n",
       "      <td>135.20</td>\n",
       "      <td>132.64</td>\n",
       "      <td>134.75</td>\n",
       "      <td>48757</td>\n",
       "      <td>134.043</td>\n",
       "      <td>26974</td>\n",
       "    </tr>\n",
       "    <tr>\n",
       "      <th>2</th>\n",
       "      <td>2019-08-07 16:00:00</td>\n",
       "      <td>134.74</td>\n",
       "      <td>134.92</td>\n",
       "      <td>133.52</td>\n",
       "      <td>133.88</td>\n",
       "      <td>28977</td>\n",
       "      <td>134.147</td>\n",
       "      <td>17853</td>\n",
       "    </tr>\n",
       "    <tr>\n",
       "      <th>3</th>\n",
       "      <td>2019-08-07 17:00:00</td>\n",
       "      <td>133.89</td>\n",
       "      <td>134.06</td>\n",
       "      <td>133.07</td>\n",
       "      <td>133.90</td>\n",
       "      <td>21670</td>\n",
       "      <td>133.618</td>\n",
       "      <td>13497</td>\n",
       "    </tr>\n",
       "    <tr>\n",
       "      <th>4</th>\n",
       "      <td>2019-08-07 18:00:00</td>\n",
       "      <td>133.89</td>\n",
       "      <td>135.24</td>\n",
       "      <td>133.83</td>\n",
       "      <td>134.83</td>\n",
       "      <td>22648</td>\n",
       "      <td>134.653</td>\n",
       "      <td>12602</td>\n",
       "    </tr>\n",
       "  </tbody>\n",
       "</table>\n",
       "</div>"
      ],
      "text/plain": [
       "                  date    open    high     low   close  volume  average  \\\n",
       "0  2019-08-07 14:30:00  133.80  133.83  131.82  132.89   35647  132.701   \n",
       "1  2019-08-07 15:00:00  132.87  135.20  132.64  134.75   48757  134.043   \n",
       "2  2019-08-07 16:00:00  134.74  134.92  133.52  133.88   28977  134.147   \n",
       "3  2019-08-07 17:00:00  133.89  134.06  133.07  133.90   21670  133.618   \n",
       "4  2019-08-07 18:00:00  133.89  135.24  133.83  134.83   22648  134.653   \n",
       "\n",
       "   barCount  \n",
       "0     17523  \n",
       "1     26974  \n",
       "2     17853  \n",
       "3     13497  \n",
       "4     12602  "
      ]
     },
     "execution_count": 8,
     "metadata": {},
     "output_type": "execute_result"
    },
    {
     "data": {
      "application/javascript": [
       "\n",
       "            setTimeout(function() {\n",
       "                var nbb_cell_id = 8;\n",
       "                var nbb_unformatted_code = \"df.head(5)\";\n",
       "                var nbb_formatted_code = \"df.head(5)\";\n",
       "                var nbb_cells = Jupyter.notebook.get_cells();\n",
       "                for (var i = 0; i < nbb_cells.length; ++i) {\n",
       "                    if (nbb_cells[i].input_prompt_number == nbb_cell_id) {\n",
       "                        if (nbb_cells[i].get_text() == nbb_unformatted_code) {\n",
       "                             nbb_cells[i].set_text(nbb_formatted_code);\n",
       "                        }\n",
       "                        break;\n",
       "                    }\n",
       "                }\n",
       "            }, 500);\n",
       "            "
      ],
      "text/plain": [
       "<IPython.core.display.Javascript object>"
      ]
     },
     "metadata": {},
     "output_type": "display_data"
    }
   ],
   "source": [
    "df.head(5)"
   ]
  },
  {
   "cell_type": "code",
   "execution_count": 9,
   "metadata": {},
   "outputs": [
    {
     "data": {
      "application/javascript": [
       "\n",
       "            setTimeout(function() {\n",
       "                var nbb_cell_id = 9;\n",
       "                var nbb_unformatted_code = \"df = df[[\\\"close\\\"]].copy()\";\n",
       "                var nbb_formatted_code = \"df = df[[\\\"close\\\"]].copy()\";\n",
       "                var nbb_cells = Jupyter.notebook.get_cells();\n",
       "                for (var i = 0; i < nbb_cells.length; ++i) {\n",
       "                    if (nbb_cells[i].input_prompt_number == nbb_cell_id) {\n",
       "                        if (nbb_cells[i].get_text() == nbb_unformatted_code) {\n",
       "                             nbb_cells[i].set_text(nbb_formatted_code);\n",
       "                        }\n",
       "                        break;\n",
       "                    }\n",
       "                }\n",
       "            }, 500);\n",
       "            "
      ],
      "text/plain": [
       "<IPython.core.display.Javascript object>"
      ]
     },
     "metadata": {},
     "output_type": "display_data"
    }
   ],
   "source": [
    "df = df[[\"close\"]].copy()"
   ]
  },
  {
   "cell_type": "code",
   "execution_count": 10,
   "metadata": {},
   "outputs": [
    {
     "data": {
      "text/html": [
       "<div>\n",
       "<style scoped>\n",
       "    .dataframe tbody tr th:only-of-type {\n",
       "        vertical-align: middle;\n",
       "    }\n",
       "\n",
       "    .dataframe tbody tr th {\n",
       "        vertical-align: top;\n",
       "    }\n",
       "\n",
       "    .dataframe thead th {\n",
       "        text-align: right;\n",
       "    }\n",
       "</style>\n",
       "<table border=\"1\" class=\"dataframe\">\n",
       "  <thead>\n",
       "    <tr style=\"text-align: right;\">\n",
       "      <th></th>\n",
       "      <th>close</th>\n",
       "    </tr>\n",
       "  </thead>\n",
       "  <tbody>\n",
       "    <tr>\n",
       "      <th>count</th>\n",
       "      <td>1753.000000</td>\n",
       "    </tr>\n",
       "    <tr>\n",
       "      <th>mean</th>\n",
       "      <td>164.330610</td>\n",
       "    </tr>\n",
       "    <tr>\n",
       "      <th>std</th>\n",
       "      <td>23.125225</td>\n",
       "    </tr>\n",
       "    <tr>\n",
       "      <th>min</th>\n",
       "      <td>132.670000</td>\n",
       "    </tr>\n",
       "    <tr>\n",
       "      <th>25%</th>\n",
       "      <td>143.320000</td>\n",
       "    </tr>\n",
       "    <tr>\n",
       "      <th>50%</th>\n",
       "      <td>159.750000</td>\n",
       "    </tr>\n",
       "    <tr>\n",
       "      <th>75%</th>\n",
       "      <td>183.390000</td>\n",
       "    </tr>\n",
       "    <tr>\n",
       "      <th>max</th>\n",
       "      <td>216.540000</td>\n",
       "    </tr>\n",
       "  </tbody>\n",
       "</table>\n",
       "</div>"
      ],
      "text/plain": [
       "             close\n",
       "count  1753.000000\n",
       "mean    164.330610\n",
       "std      23.125225\n",
       "min     132.670000\n",
       "25%     143.320000\n",
       "50%     159.750000\n",
       "75%     183.390000\n",
       "max     216.540000"
      ]
     },
     "execution_count": 10,
     "metadata": {},
     "output_type": "execute_result"
    },
    {
     "data": {
      "application/javascript": [
       "\n",
       "            setTimeout(function() {\n",
       "                var nbb_cell_id = 10;\n",
       "                var nbb_unformatted_code = \"df.describe()\";\n",
       "                var nbb_formatted_code = \"df.describe()\";\n",
       "                var nbb_cells = Jupyter.notebook.get_cells();\n",
       "                for (var i = 0; i < nbb_cells.length; ++i) {\n",
       "                    if (nbb_cells[i].input_prompt_number == nbb_cell_id) {\n",
       "                        if (nbb_cells[i].get_text() == nbb_unformatted_code) {\n",
       "                             nbb_cells[i].set_text(nbb_formatted_code);\n",
       "                        }\n",
       "                        break;\n",
       "                    }\n",
       "                }\n",
       "            }, 500);\n",
       "            "
      ],
      "text/plain": [
       "<IPython.core.display.Javascript object>"
      ]
     },
     "metadata": {},
     "output_type": "display_data"
    }
   ],
   "source": [
    "df.describe()"
   ]
  },
  {
   "cell_type": "markdown",
   "metadata": {},
   "source": [
    "An ARIMA model is characterized by 3 terms (p, d, q):\n",
    "\n",
    "- p is the order of the AR term\n",
    "\n",
    "- d is the number of differencing required to make the time series stationary\n",
    "\n",
    "- q is the order of the MA term\n",
    "\n",
    "As we see in the parameters required by the model, any stationary time series can be modeled with ARIMA models.\n",
    "\n"
   ]
  },
  {
   "cell_type": "markdown",
   "metadata": {},
   "source": [
    "### Stationarity\n",
    "\n",
    "Subtract the previous value from the current value. Now if we just difference once, we might not get a stationary series so we might need to do that multiple times. \n",
    "\n",
    "And the minimum number of differencing operations needed to make the series stationary needs to be imputed into our ARIMA model. "
   ]
  },
  {
   "cell_type": "markdown",
   "metadata": {},
   "source": [
    "#### ADF test"
   ]
  },
  {
   "cell_type": "markdown",
   "metadata": {},
   "source": [
    "We'll use the Augumented Dickey Fuller (ADF) test to check if the price series is stationary.\n",
    "\n",
    "The null hypothesis of the ADF test is that the time series is non-stationary. So, if the p-value of the test is less than the significance level (0.05) then we can reject the null hypothesis and infer that the time series is indeed stationary.\n",
    "\n",
    "So, in our case, if the p-value > 0.05 we'll need to find the order of differencing."
   ]
  },
  {
   "cell_type": "code",
   "execution_count": 11,
   "metadata": {},
   "outputs": [
    {
     "name": "stdout",
     "output_type": "stream",
     "text": [
      "ADF Statistic: -0.06770371326952018\n",
      "p-value: 0.9525618600853158\n"
     ]
    },
    {
     "data": {
      "application/javascript": [
       "\n",
       "            setTimeout(function() {\n",
       "                var nbb_cell_id = 11;\n",
       "                var nbb_unformatted_code = \"# Check if price series is stationary\\nfrom statsmodels.tsa.stattools import adfuller\\n\\nresult = adfuller(df.close.dropna())\\nprint(f\\\"ADF Statistic: {result[0]}\\\")\\nprint(f\\\"p-value: {result[1]}\\\")\";\n",
       "                var nbb_formatted_code = \"# Check if price series is stationary\\nfrom statsmodels.tsa.stattools import adfuller\\n\\nresult = adfuller(df.close.dropna())\\nprint(f\\\"ADF Statistic: {result[0]}\\\")\\nprint(f\\\"p-value: {result[1]}\\\")\";\n",
       "                var nbb_cells = Jupyter.notebook.get_cells();\n",
       "                for (var i = 0; i < nbb_cells.length; ++i) {\n",
       "                    if (nbb_cells[i].input_prompt_number == nbb_cell_id) {\n",
       "                        if (nbb_cells[i].get_text() == nbb_unformatted_code) {\n",
       "                             nbb_cells[i].set_text(nbb_formatted_code);\n",
       "                        }\n",
       "                        break;\n",
       "                    }\n",
       "                }\n",
       "            }, 500);\n",
       "            "
      ],
      "text/plain": [
       "<IPython.core.display.Javascript object>"
      ]
     },
     "metadata": {},
     "output_type": "display_data"
    }
   ],
   "source": [
    "# Check if price series is stationary\n",
    "from statsmodels.tsa.stattools import adfuller\n",
    "\n",
    "result = adfuller(df.close.dropna())\n",
    "print(f\"ADF Statistic: {result[0]}\")\n",
    "print(f\"p-value: {result[1]}\")"
   ]
  },
  {
   "cell_type": "code",
   "execution_count": 12,
   "metadata": {},
   "outputs": [
    {
     "data": {
      "application/javascript": [
       "\n",
       "            setTimeout(function() {\n",
       "                var nbb_cell_id = 12;\n",
       "                var nbb_unformatted_code = \"# Ho: It is non stationary\\n# H1: It is stationary\\n\\n\\ndef adfuller_test(data):\\n    result = adfuller(data)\\n    labels = [\\n        \\\"ADF Test Statistic\\\",\\n        \\\"p-value\\\",\\n        \\\"#Lags Used\\\",\\n        \\\"Number of Observations Used\\\",\\n    ]\\n    for value, label in zip(result, labels):\\n        print(label + \\\" : \\\" + str(value))\\n    if result[1] <= 0.05:\\n        print(\\n            \\\"strong evidence against the null hypothesis(Ho), reject the null hypothesis. Data has no unit root and is stationary\\\"\\n        )\\n    else:\\n        print(\\n            \\\"weak evidence against null hypothesis, time series has a unit root, indicating it is non-stationary \\\"\\n        )\";\n",
       "                var nbb_formatted_code = \"# Ho: It is non stationary\\n# H1: It is stationary\\n\\n\\ndef adfuller_test(data):\\n    result = adfuller(data)\\n    labels = [\\n        \\\"ADF Test Statistic\\\",\\n        \\\"p-value\\\",\\n        \\\"#Lags Used\\\",\\n        \\\"Number of Observations Used\\\",\\n    ]\\n    for value, label in zip(result, labels):\\n        print(label + \\\" : \\\" + str(value))\\n    if result[1] <= 0.05:\\n        print(\\n            \\\"strong evidence against the null hypothesis(Ho), reject the null hypothesis. Data has no unit root and is stationary\\\"\\n        )\\n    else:\\n        print(\\n            \\\"weak evidence against null hypothesis, time series has a unit root, indicating it is non-stationary \\\"\\n        )\";\n",
       "                var nbb_cells = Jupyter.notebook.get_cells();\n",
       "                for (var i = 0; i < nbb_cells.length; ++i) {\n",
       "                    if (nbb_cells[i].input_prompt_number == nbb_cell_id) {\n",
       "                        if (nbb_cells[i].get_text() == nbb_unformatted_code) {\n",
       "                             nbb_cells[i].set_text(nbb_formatted_code);\n",
       "                        }\n",
       "                        break;\n",
       "                    }\n",
       "                }\n",
       "            }, 500);\n",
       "            "
      ],
      "text/plain": [
       "<IPython.core.display.Javascript object>"
      ]
     },
     "metadata": {},
     "output_type": "display_data"
    }
   ],
   "source": [
    "# Ho: It is non stationary\n",
    "# H1: It is stationary\n",
    "\n",
    "\n",
    "def adfuller_test(data):\n",
    "    result = adfuller(data)\n",
    "    labels = [\n",
    "        \"ADF Test Statistic\",\n",
    "        \"p-value\",\n",
    "        \"#Lags Used\",\n",
    "        \"Number of Observations Used\",\n",
    "    ]\n",
    "    for value, label in zip(result, labels):\n",
    "        print(label + \" : \" + str(value))\n",
    "    if result[1] <= 0.05:\n",
    "        print(\n",
    "            \"strong evidence against the null hypothesis(Ho), reject the null hypothesis. Data has no unit root and is stationary\"\n",
    "        )\n",
    "    else:\n",
    "        print(\n",
    "            \"weak evidence against null hypothesis, time series has a unit root, indicating it is non-stationary \"\n",
    "        )"
   ]
  },
  {
   "cell_type": "code",
   "execution_count": 13,
   "metadata": {},
   "outputs": [
    {
     "name": "stdout",
     "output_type": "stream",
     "text": [
      "ADF Test Statistic : -0.06770371326952018\n",
      "p-value : 0.9525618600853158\n",
      "#Lags Used : 25\n",
      "Number of Observations Used : 1727\n",
      "weak evidence against null hypothesis, time series has a unit root, indicating it is non-stationary \n"
     ]
    },
    {
     "data": {
      "application/javascript": [
       "\n",
       "            setTimeout(function() {\n",
       "                var nbb_cell_id = 13;\n",
       "                var nbb_unformatted_code = \"adfuller_test(df[\\\"close\\\"])\";\n",
       "                var nbb_formatted_code = \"adfuller_test(df[\\\"close\\\"])\";\n",
       "                var nbb_cells = Jupyter.notebook.get_cells();\n",
       "                for (var i = 0; i < nbb_cells.length; ++i) {\n",
       "                    if (nbb_cells[i].input_prompt_number == nbb_cell_id) {\n",
       "                        if (nbb_cells[i].get_text() == nbb_unformatted_code) {\n",
       "                             nbb_cells[i].set_text(nbb_formatted_code);\n",
       "                        }\n",
       "                        break;\n",
       "                    }\n",
       "                }\n",
       "            }, 500);\n",
       "            "
      ],
      "text/plain": [
       "<IPython.core.display.Javascript object>"
      ]
     },
     "metadata": {},
     "output_type": "display_data"
    }
   ],
   "source": [
    "adfuller_test(df[\"close\"])"
   ]
  },
  {
   "cell_type": "markdown",
   "metadata": {},
   "source": [
    "#### Autocorrelation Function (ACF)"
   ]
  },
  {
   "cell_type": "code",
   "execution_count": 14,
   "metadata": {},
   "outputs": [
    {
     "data": {
      "application/javascript": [
       "\n",
       "            setTimeout(function() {\n",
       "                var nbb_cell_id = 14;\n",
       "                var nbb_unformatted_code = \"from statsmodels.graphics.tsaplots import plot_acf\";\n",
       "                var nbb_formatted_code = \"from statsmodels.graphics.tsaplots import plot_acf\";\n",
       "                var nbb_cells = Jupyter.notebook.get_cells();\n",
       "                for (var i = 0; i < nbb_cells.length; ++i) {\n",
       "                    if (nbb_cells[i].input_prompt_number == nbb_cell_id) {\n",
       "                        if (nbb_cells[i].get_text() == nbb_unformatted_code) {\n",
       "                             nbb_cells[i].set_text(nbb_formatted_code);\n",
       "                        }\n",
       "                        break;\n",
       "                    }\n",
       "                }\n",
       "            }, 500);\n",
       "            "
      ],
      "text/plain": [
       "<IPython.core.display.Javascript object>"
      ]
     },
     "metadata": {},
     "output_type": "display_data"
    }
   ],
   "source": [
    "from statsmodels.graphics.tsaplots import plot_acf"
   ]
  },
  {
   "cell_type": "code",
   "execution_count": 15,
   "metadata": {},
   "outputs": [
    {
     "data": {
      "image/png": "[encoded data removed]",
      "text/plain": [
       "<Figure size 1152x288 with 2 Axes>"
      ]
     },
     "metadata": {
      "needs_background": "light"
     },
     "output_type": "display_data"
    },
    {
     "data": {
      "application/javascript": [
       "\n",
       "            setTimeout(function() {\n",
       "                var nbb_cell_id = 15;\n",
       "                var nbb_unformatted_code = \"fig, (ax1, ax2) = plt.subplots(1, 2, figsize=(16, 4))\\n\\nax1.plot(df.close)\\nax1.set_title(\\\"Original\\\")\\n# add ; at the end of the plot function so that the plot is not duplicated\\nplot_acf(df.close, ax=ax2);\";\n",
       "                var nbb_formatted_code = \"fig, (ax1, ax2) = plt.subplots(1, 2, figsize=(16, 4))\\n\\nax1.plot(df.close)\\nax1.set_title(\\\"Original\\\")\\n# add ; at the end of the plot function so that the plot is not duplicated\\nplot_acf(df.close, ax=ax2)\";\n",
       "                var nbb_cells = Jupyter.notebook.get_cells();\n",
       "                for (var i = 0; i < nbb_cells.length; ++i) {\n",
       "                    if (nbb_cells[i].input_prompt_number == nbb_cell_id) {\n",
       "                        if (nbb_cells[i].get_text() == nbb_unformatted_code) {\n",
       "                             nbb_cells[i].set_text(nbb_formatted_code);\n",
       "                        }\n",
       "                        break;\n",
       "                    }\n",
       "                }\n",
       "            }, 500);\n",
       "            "
      ],
      "text/plain": [
       "<IPython.core.display.Javascript object>"
      ]
     },
     "metadata": {},
     "output_type": "display_data"
    }
   ],
   "source": [
    "fig, (ax1, ax2) = plt.subplots(1, 2, figsize=(16, 4))\n",
    "\n",
    "ax1.plot(df.close)\n",
    "ax1.set_title(\"Original\")\n",
    "# add ; at the end of the plot function so that the plot is not duplicated\n",
    "plot_acf(df.close, ax=ax2)"
   ]
  },
  {
   "cell_type": "code",
   "execution_count": 16,
   "metadata": {},
   "outputs": [
    {
     "data": {
      "image/png": "[encoded data removed]",
      "text/plain": [
       "<Figure size 1152x288 with 2 Axes>"
      ]
     },
     "metadata": {
      "needs_background": "light"
     },
     "output_type": "display_data"
    },
    {
     "data": {
      "application/javascript": [
       "\n",
       "            setTimeout(function() {\n",
       "                var nbb_cell_id = 16;\n",
       "                var nbb_unformatted_code = \"diff = df.close.diff().dropna()\\n\\nfig, (ax1, ax2) = plt.subplots(1, 2, figsize=(16, 4))\\n\\nax1.plot(diff)\\nax1.set_title(\\\"Difference once\\\")\\nplot_acf(diff, ax=ax2);\";\n",
       "                var nbb_formatted_code = \"diff = df.close.diff().dropna()\\n\\nfig, (ax1, ax2) = plt.subplots(1, 2, figsize=(16, 4))\\n\\nax1.plot(diff)\\nax1.set_title(\\\"Difference once\\\")\\nplot_acf(diff, ax=ax2)\";\n",
       "                var nbb_cells = Jupyter.notebook.get_cells();\n",
       "                for (var i = 0; i < nbb_cells.length; ++i) {\n",
       "                    if (nbb_cells[i].input_prompt_number == nbb_cell_id) {\n",
       "                        if (nbb_cells[i].get_text() == nbb_unformatted_code) {\n",
       "                             nbb_cells[i].set_text(nbb_formatted_code);\n",
       "                        }\n",
       "                        break;\n",
       "                    }\n",
       "                }\n",
       "            }, 500);\n",
       "            "
      ],
      "text/plain": [
       "<IPython.core.display.Javascript object>"
      ]
     },
     "metadata": {},
     "output_type": "display_data"
    }
   ],
   "source": [
    "diff = df.close.diff().dropna()\n",
    "\n",
    "fig, (ax1, ax2) = plt.subplots(1, 2, figsize=(16, 4))\n",
    "\n",
    "ax1.plot(diff)\n",
    "ax1.set_title(\"Difference once\")\n",
    "plot_acf(diff, ax=ax2)"
   ]
  },
  {
   "cell_type": "code",
   "execution_count": 17,
   "metadata": {},
   "outputs": [
    {
     "data": {
      "image/png": "[encoded data removed]",
      "text/plain": [
       "<Figure size 1152x288 with 2 Axes>"
      ]
     },
     "metadata": {
      "needs_background": "light"
     },
     "output_type": "display_data"
    },
    {
     "data": {
      "application/javascript": [
       "\n",
       "            setTimeout(function() {\n",
       "                var nbb_cell_id = 17;\n",
       "                var nbb_unformatted_code = \"diff = df.close.diff().diff().dropna()\\n\\nfig, (ax1, ax2) = plt.subplots(1, 2, figsize=(16, 4))\\n\\nax1.plot(diff)\\nax1.set_title(\\\"Difference twice\\\")\\nplot_acf(diff, ax=ax2);\";\n",
       "                var nbb_formatted_code = \"diff = df.close.diff().diff().dropna()\\n\\nfig, (ax1, ax2) = plt.subplots(1, 2, figsize=(16, 4))\\n\\nax1.plot(diff)\\nax1.set_title(\\\"Difference twice\\\")\\nplot_acf(diff, ax=ax2)\";\n",
       "                var nbb_cells = Jupyter.notebook.get_cells();\n",
       "                for (var i = 0; i < nbb_cells.length; ++i) {\n",
       "                    if (nbb_cells[i].input_prompt_number == nbb_cell_id) {\n",
       "                        if (nbb_cells[i].get_text() == nbb_unformatted_code) {\n",
       "                             nbb_cells[i].set_text(nbb_formatted_code);\n",
       "                        }\n",
       "                        break;\n",
       "                    }\n",
       "                }\n",
       "            }, 500);\n",
       "            "
      ],
      "text/plain": [
       "<IPython.core.display.Javascript object>"
      ]
     },
     "metadata": {},
     "output_type": "display_data"
    }
   ],
   "source": [
    "diff = df.close.diff().diff().dropna()\n",
    "\n",
    "fig, (ax1, ax2) = plt.subplots(1, 2, figsize=(16, 4))\n",
    "\n",
    "ax1.plot(diff)\n",
    "ax1.set_title(\"Difference twice\")\n",
    "plot_acf(diff, ax=ax2)"
   ]
  },
  {
   "cell_type": "markdown",
   "metadata": {},
   "source": [
    "We can use the pmdarima package to get the number of differencing."
   ]
  },
  {
   "cell_type": "code",
   "execution_count": 18,
   "metadata": {},
   "outputs": [
    {
     "data": {
      "application/javascript": [
       "\n",
       "            setTimeout(function() {\n",
       "                var nbb_cell_id = 18;\n",
       "                var nbb_unformatted_code = \"#!pipenv install --skip-lock pmdarima\\n\\nfrom pmdarima.arima.utils import ndiffs\";\n",
       "                var nbb_formatted_code = \"#!pipenv install --skip-lock pmdarima\\n\\nfrom pmdarima.arima.utils import ndiffs\";\n",
       "                var nbb_cells = Jupyter.notebook.get_cells();\n",
       "                for (var i = 0; i < nbb_cells.length; ++i) {\n",
       "                    if (nbb_cells[i].input_prompt_number == nbb_cell_id) {\n",
       "                        if (nbb_cells[i].get_text() == nbb_unformatted_code) {\n",
       "                             nbb_cells[i].set_text(nbb_formatted_code);\n",
       "                        }\n",
       "                        break;\n",
       "                    }\n",
       "                }\n",
       "            }, 500);\n",
       "            "
      ],
      "text/plain": [
       "<IPython.core.display.Javascript object>"
      ]
     },
     "metadata": {},
     "output_type": "display_data"
    }
   ],
   "source": [
    "#!pipenv install --skip-lock pmdarima\n",
    "\n",
    "from pmdarima.arima.utils import ndiffs"
   ]
  },
  {
   "cell_type": "code",
   "execution_count": 19,
   "metadata": {},
   "outputs": [
    {
     "data": {
      "text/plain": [
       "1"
      ]
     },
     "execution_count": 19,
     "metadata": {},
     "output_type": "execute_result"
    },
    {
     "data": {
      "application/javascript": [
       "\n",
       "            setTimeout(function() {\n",
       "                var nbb_cell_id = 19;\n",
       "                var nbb_unformatted_code = \"ndiffs(df.close, test=\\\"adf\\\")\";\n",
       "                var nbb_formatted_code = \"ndiffs(df.close, test=\\\"adf\\\")\";\n",
       "                var nbb_cells = Jupyter.notebook.get_cells();\n",
       "                for (var i = 0; i < nbb_cells.length; ++i) {\n",
       "                    if (nbb_cells[i].input_prompt_number == nbb_cell_id) {\n",
       "                        if (nbb_cells[i].get_text() == nbb_unformatted_code) {\n",
       "                             nbb_cells[i].set_text(nbb_formatted_code);\n",
       "                        }\n",
       "                        break;\n",
       "                    }\n",
       "                }\n",
       "            }, 500);\n",
       "            "
      ],
      "text/plain": [
       "<IPython.core.display.Javascript object>"
      ]
     },
     "metadata": {},
     "output_type": "display_data"
    }
   ],
   "source": [
    "ndiffs(df.close, test=\"adf\")"
   ]
  },
  {
   "cell_type": "markdown",
   "metadata": {},
   "source": [
    "#### p\n",
    "\n",
    "p is the order of the Auto Regressive (AR) term. It refers to the number of lags to be used as predictors. \n",
    "\n",
    "We can find out the required number of AR terms by inspecting the Partial Autocorrelation (PACF) plot.\n",
    "\n",
    "The partial autocorrelation represents the correlation between the series and its lags. "
   ]
  },
  {
   "cell_type": "code",
   "execution_count": 20,
   "metadata": {},
   "outputs": [
    {
     "data": {
      "application/javascript": [
       "\n",
       "            setTimeout(function() {\n",
       "                var nbb_cell_id = 20;\n",
       "                var nbb_unformatted_code = \"from statsmodels.graphics.tsaplots import plot_pacf\";\n",
       "                var nbb_formatted_code = \"from statsmodels.graphics.tsaplots import plot_pacf\";\n",
       "                var nbb_cells = Jupyter.notebook.get_cells();\n",
       "                for (var i = 0; i < nbb_cells.length; ++i) {\n",
       "                    if (nbb_cells[i].input_prompt_number == nbb_cell_id) {\n",
       "                        if (nbb_cells[i].get_text() == nbb_unformatted_code) {\n",
       "                             nbb_cells[i].set_text(nbb_formatted_code);\n",
       "                        }\n",
       "                        break;\n",
       "                    }\n",
       "                }\n",
       "            }, 500);\n",
       "            "
      ],
      "text/plain": [
       "<IPython.core.display.Javascript object>"
      ]
     },
     "metadata": {},
     "output_type": "display_data"
    }
   ],
   "source": [
    "from statsmodels.graphics.tsaplots import plot_pacf"
   ]
  },
  {
   "cell_type": "code",
   "execution_count": 21,
   "metadata": {},
   "outputs": [
    {
     "data": {
      "image/png": "[encoded data removed]",
      "text/plain": [
       "<Figure size 1152x288 with 2 Axes>"
      ]
     },
     "metadata": {
      "needs_background": "light"
     },
     "output_type": "display_data"
    },
    {
     "data": {
      "application/javascript": [
       "\n",
       "            setTimeout(function() {\n",
       "                var nbb_cell_id = 21;\n",
       "                var nbb_unformatted_code = \"diff = df.close.diff().dropna()\\n\\nfig, (ax1, ax2) = plt.subplots(1, 2, figsize=(16, 4))\\n\\nax1.plot(diff)\\nax1.set_title(\\\"Difference once\\\")\\nax2.set_ylim(0, 1)\\nplot_pacf(diff, ax=ax2);\";\n",
       "                var nbb_formatted_code = \"diff = df.close.diff().dropna()\\n\\nfig, (ax1, ax2) = plt.subplots(1, 2, figsize=(16, 4))\\n\\nax1.plot(diff)\\nax1.set_title(\\\"Difference once\\\")\\nax2.set_ylim(0, 1)\\nplot_pacf(diff, ax=ax2)\";\n",
       "                var nbb_cells = Jupyter.notebook.get_cells();\n",
       "                for (var i = 0; i < nbb_cells.length; ++i) {\n",
       "                    if (nbb_cells[i].input_prompt_number == nbb_cell_id) {\n",
       "                        if (nbb_cells[i].get_text() == nbb_unformatted_code) {\n",
       "                             nbb_cells[i].set_text(nbb_formatted_code);\n",
       "                        }\n",
       "                        break;\n",
       "                    }\n",
       "                }\n",
       "            }, 500);\n",
       "            "
      ],
      "text/plain": [
       "<IPython.core.display.Javascript object>"
      ]
     },
     "metadata": {},
     "output_type": "display_data"
    }
   ],
   "source": [
    "diff = df.close.diff().dropna()\n",
    "\n",
    "fig, (ax1, ax2) = plt.subplots(1, 2, figsize=(16, 4))\n",
    "\n",
    "ax1.plot(diff)\n",
    "ax1.set_title(\"Difference once\")\n",
    "ax2.set_ylim(0, 1)\n",
    "plot_pacf(diff, ax=ax2)"
   ]
  },
  {
   "cell_type": "markdown",
   "metadata": {},
   "source": [
    "We can observe that the PACF lag 6 is significant as it's above the significance line."
   ]
  },
  {
   "cell_type": "markdown",
   "metadata": {},
   "source": [
    "#### q\n",
    "\n",
    "q is the order of the Moving Average (MA) term. It refers to the number of lagged forecast errors that should go into the ARIMA Model.\n",
    "\n",
    "We can look at the ACF plot for the number of MA terms."
   ]
  },
  {
   "cell_type": "code",
   "execution_count": 22,
   "metadata": {},
   "outputs": [
    {
     "data": {
      "image/png": "[encoded data removed]",
      "text/plain": [
       "<Figure size 1152x288 with 2 Axes>"
      ]
     },
     "metadata": {
      "needs_background": "light"
     },
     "output_type": "display_data"
    },
    {
     "data": {
      "application/javascript": [
       "\n",
       "            setTimeout(function() {\n",
       "                var nbb_cell_id = 22;\n",
       "                var nbb_unformatted_code = \"diff = df.close.diff().dropna()\\n\\nfig, (ax1, ax2) = plt.subplots(1, 2, figsize=(16, 4))\\n\\nax1.plot(diff)\\nax1.set_title(\\\"Difference once\\\")\\nax2.set_ylim(0, 1)\\nplot_acf(diff, ax=ax2);\";\n",
       "                var nbb_formatted_code = \"diff = df.close.diff().dropna()\\n\\nfig, (ax1, ax2) = plt.subplots(1, 2, figsize=(16, 4))\\n\\nax1.plot(diff)\\nax1.set_title(\\\"Difference once\\\")\\nax2.set_ylim(0, 1)\\nplot_acf(diff, ax=ax2)\";\n",
       "                var nbb_cells = Jupyter.notebook.get_cells();\n",
       "                for (var i = 0; i < nbb_cells.length; ++i) {\n",
       "                    if (nbb_cells[i].input_prompt_number == nbb_cell_id) {\n",
       "                        if (nbb_cells[i].get_text() == nbb_unformatted_code) {\n",
       "                             nbb_cells[i].set_text(nbb_formatted_code);\n",
       "                        }\n",
       "                        break;\n",
       "                    }\n",
       "                }\n",
       "            }, 500);\n",
       "            "
      ],
      "text/plain": [
       "<IPython.core.display.Javascript object>"
      ]
     },
     "metadata": {},
     "output_type": "display_data"
    }
   ],
   "source": [
    "diff = df.close.diff().dropna()\n",
    "\n",
    "fig, (ax1, ax2) = plt.subplots(1, 2, figsize=(16, 4))\n",
    "\n",
    "ax1.plot(diff)\n",
    "ax1.set_title(\"Difference once\")\n",
    "ax2.set_ylim(0, 1)\n",
    "plot_acf(diff, ax=ax2)"
   ]
  },
  {
   "cell_type": "markdown",
   "metadata": {},
   "source": [
    "#### Fitting the ARIMA model"
   ]
  },
  {
   "cell_type": "code",
   "execution_count": 23,
   "metadata": {},
   "outputs": [
    {
     "name": "stderr",
     "output_type": "stream",
     "text": [
      "C:\\Users\\Jitender_bhatt\\Anaconda3\\lib\\site-packages\\statsmodels\\tsa\\arima_model.py:472: FutureWarning: \n",
      "statsmodels.tsa.arima_model.ARMA and statsmodels.tsa.arima_model.ARIMA have\n",
      "been deprecated in favor of statsmodels.tsa.arima.model.ARIMA (note the .\n",
      "between arima and model) and\n",
      "statsmodels.tsa.SARIMAX. These will be removed after the 0.12 release.\n",
      "\n",
      "statsmodels.tsa.arima.model.ARIMA makes use of the statespace framework and\n",
      "is both well tested and maintained.\n",
      "\n",
      "To silence this warning and continue using ARMA and ARIMA until they are\n",
      "removed, use:\n",
      "\n",
      "import warnings\n",
      "warnings.filterwarnings('ignore', 'statsmodels.tsa.arima_model.ARMA',\n",
      "                        FutureWarning)\n",
      "warnings.filterwarnings('ignore', 'statsmodels.tsa.arima_model.ARIMA',\n",
      "                        FutureWarning)\n",
      "\n",
      "  warnings.warn(ARIMA_DEPRECATION_WARN, FutureWarning)\n"
     ]
    },
    {
     "data": {
      "application/javascript": [
       "\n",
       "            setTimeout(function() {\n",
       "                var nbb_cell_id = 23;\n",
       "                var nbb_unformatted_code = \"from statsmodels.tsa.arima_model import ARIMA\\n\\n# ARIMA Model\\nmodel = ARIMA(df.close, order=(6, 1, 3))\\nresult = model.fit(disp=0)\";\n",
       "                var nbb_formatted_code = \"from statsmodels.tsa.arima_model import ARIMA\\n\\n# ARIMA Model\\nmodel = ARIMA(df.close, order=(6, 1, 3))\\nresult = model.fit(disp=0)\";\n",
       "                var nbb_cells = Jupyter.notebook.get_cells();\n",
       "                for (var i = 0; i < nbb_cells.length; ++i) {\n",
       "                    if (nbb_cells[i].input_prompt_number == nbb_cell_id) {\n",
       "                        if (nbb_cells[i].get_text() == nbb_unformatted_code) {\n",
       "                             nbb_cells[i].set_text(nbb_formatted_code);\n",
       "                        }\n",
       "                        break;\n",
       "                    }\n",
       "                }\n",
       "            }, 500);\n",
       "            "
      ],
      "text/plain": [
       "<IPython.core.display.Javascript object>"
      ]
     },
     "metadata": {},
     "output_type": "display_data"
    }
   ],
   "source": [
    "from statsmodels.tsa.arima_model import ARIMA\n",
    "\n",
    "# ARIMA Model\n",
    "model = ARIMA(df.close, order=(6, 1, 3))\n",
    "result = model.fit(disp=0)"
   ]
  },
  {
   "cell_type": "code",
   "execution_count": 24,
   "metadata": {},
   "outputs": [
    {
     "name": "stdout",
     "output_type": "stream",
     "text": [
      "                             ARIMA Model Results                              \n",
      "==============================================================================\n",
      "Dep. Variable:                D.close   No. Observations:                 1752\n",
      "Model:                 ARIMA(6, 1, 3)   Log Likelihood               -2984.206\n",
      "Method:                       css-mle   S.D. of innovations              1.329\n",
      "Date:                Wed, 01 Jun 2022   AIC                           5990.412\n",
      "Time:                        14:38:16   BIC                           6050.566\n",
      "Sample:                             1   HQIC                          6012.647\n",
      "                                                                              \n",
      "=================================================================================\n",
      "                    coef    std err          z      P>|z|      [0.025      0.975]\n",
      "---------------------------------------------------------------------------------\n",
      "const             0.0461      0.031      1.480      0.139      -0.015       0.107\n",
      "ar.L1.D.close    -0.6365      0.119     -5.346      0.000      -0.870      -0.403\n",
      "ar.L2.D.close    -0.4278      0.134     -3.202      0.001      -0.690      -0.166\n",
      "ar.L3.D.close    -0.4730      0.112     -4.236      0.000      -0.692      -0.254\n",
      "ar.L4.D.close    -0.0086      0.036     -0.240      0.810      -0.079       0.062\n",
      "ar.L5.D.close     0.0711      0.028      2.506      0.012       0.015       0.127\n",
      "ar.L6.D.close     0.1765      0.024      7.368      0.000       0.130       0.223\n",
      "ma.L1.D.close     0.4605      0.120      3.824      0.000       0.224       0.697\n",
      "ma.L2.D.close     0.3270      0.122      2.682      0.007       0.088       0.566\n",
      "ma.L3.D.close     0.4702      0.099      4.758      0.000       0.276       0.664\n",
      "                                    Roots                                    \n",
      "=============================================================================\n",
      "                  Real          Imaginary           Modulus         Frequency\n",
      "-----------------------------------------------------------------------------\n",
      "AR.1           -1.1009           -0.0000j            1.1009           -0.5000\n",
      "AR.2            0.3084           -1.1242j            1.1657           -0.2074\n",
      "AR.3            0.3084           +1.1242j            1.1657            0.2074\n",
      "AR.4           -0.8271           -1.2237j            1.4770           -0.3446\n",
      "AR.5           -0.8271           +1.2237j            1.4770            0.3446\n",
      "AR.6            1.7356           -0.0000j            1.7356           -0.0000\n",
      "MA.1           -1.2592           -0.0000j            1.2592           -0.5000\n",
      "MA.2            0.2818           -1.2688j            1.2997           -0.2152\n",
      "MA.3            0.2818           +1.2688j            1.2997            0.2152\n",
      "-----------------------------------------------------------------------------\n"
     ]
    },
    {
     "data": {
      "application/javascript": [
       "\n",
       "            setTimeout(function() {\n",
       "                var nbb_cell_id = 24;\n",
       "                var nbb_unformatted_code = \"print(result.summary())\";\n",
       "                var nbb_formatted_code = \"print(result.summary())\";\n",
       "                var nbb_cells = Jupyter.notebook.get_cells();\n",
       "                for (var i = 0; i < nbb_cells.length; ++i) {\n",
       "                    if (nbb_cells[i].input_prompt_number == nbb_cell_id) {\n",
       "                        if (nbb_cells[i].get_text() == nbb_unformatted_code) {\n",
       "                             nbb_cells[i].set_text(nbb_formatted_code);\n",
       "                        }\n",
       "                        break;\n",
       "                    }\n",
       "                }\n",
       "            }, 500);\n",
       "            "
      ],
      "text/plain": [
       "<IPython.core.display.Javascript object>"
      ]
     },
     "metadata": {},
     "output_type": "display_data"
    }
   ],
   "source": [
    "print(result.summary())"
   ]
  },
  {
   "cell_type": "code",
   "execution_count": 25,
   "metadata": {
    "scrolled": false
   },
   "outputs": [
    {
     "data": {
      "text/plain": [
       "(array([2.23256914e-04, 0.00000000e+00, 1.11628457e-03, 7.14422125e-03,\n",
       "        7.05491849e-02, 2.95368897e-01, 1.38419287e-02, 2.45582606e-03,\n",
       "        2.23256914e-04, 2.23256914e-04]),\n",
       " array([-13.36180172, -10.80521234,  -8.24862296,  -5.69203358,\n",
       "         -3.1354442 ,  -0.57885482,   1.97773456,   4.53432394,\n",
       "          7.09091332,   9.6475027 ,  12.20409208]),\n",
       " <BarContainer object of 10 artists>)"
      ]
     },
     "execution_count": 25,
     "metadata": {},
     "output_type": "execute_result"
    },
    {
     "data": {
      "image/png": "[encoded data removed]",
      "text/plain": [
       "<Figure size 1152x288 with 2 Axes>"
      ]
     },
     "metadata": {
      "needs_background": "light"
     },
     "output_type": "display_data"
    },
    {
     "data": {
      "application/javascript": [
       "\n",
       "            setTimeout(function() {\n",
       "                var nbb_cell_id = 25;\n",
       "                var nbb_unformatted_code = \"# Plot residual errors\\nresiduals = pd.DataFrame(result.resid)\\n\\nfig, (ax1, ax2) = plt.subplots(1, 2, figsize=(16, 4))\\n\\nax1.plot(residuals)\\nax2.hist(residuals, density=True)\";\n",
       "                var nbb_formatted_code = \"# Plot residual errors\\nresiduals = pd.DataFrame(result.resid)\\n\\nfig, (ax1, ax2) = plt.subplots(1, 2, figsize=(16, 4))\\n\\nax1.plot(residuals)\\nax2.hist(residuals, density=True)\";\n",
       "                var nbb_cells = Jupyter.notebook.get_cells();\n",
       "                for (var i = 0; i < nbb_cells.length; ++i) {\n",
       "                    if (nbb_cells[i].input_prompt_number == nbb_cell_id) {\n",
       "                        if (nbb_cells[i].get_text() == nbb_unformatted_code) {\n",
       "                             nbb_cells[i].set_text(nbb_formatted_code);\n",
       "                        }\n",
       "                        break;\n",
       "                    }\n",
       "                }\n",
       "            }, 500);\n",
       "            "
      ],
      "text/plain": [
       "<IPython.core.display.Javascript object>"
      ]
     },
     "metadata": {},
     "output_type": "display_data"
    }
   ],
   "source": [
    "# Plot residual errors\n",
    "residuals = pd.DataFrame(result.resid)\n",
    "\n",
    "fig, (ax1, ax2) = plt.subplots(1, 2, figsize=(16, 4))\n",
    "\n",
    "ax1.plot(residuals)\n",
    "ax2.hist(residuals, density=True)\n"
   ]
  },
  {
   "cell_type": "code",
   "execution_count": 26,
   "metadata": {},
   "outputs": [
    {
     "data": {
      "image/png": "[encoded data removed]",
      "text/plain": [
       "<Figure size 432x288 with 1 Axes>"
      ]
     },
     "execution_count": 26,
     "metadata": {},
     "output_type": "execute_result"
    },
    {
     "data": {
      "image/png": "[encoded data removed]",
      "text/plain": [
       "<Figure size 432x288 with 1 Axes>"
      ]
     },
     "metadata": {
      "needs_background": "light"
     },
     "output_type": "display_data"
    },
    {
     "data": {
      "application/javascript": [
       "\n",
       "            setTimeout(function() {\n",
       "                var nbb_cell_id = 26;\n",
       "                var nbb_unformatted_code = \"# Actual vs Fitted\\nresult.plot_predict(\\n    start=1, end=60, dynamic=False,\\n)\";\n",
       "                var nbb_formatted_code = \"# Actual vs Fitted\\nresult.plot_predict(\\n    start=1, end=60, dynamic=False,\\n)\";\n",
       "                var nbb_cells = Jupyter.notebook.get_cells();\n",
       "                for (var i = 0; i < nbb_cells.length; ++i) {\n",
       "                    if (nbb_cells[i].input_prompt_number == nbb_cell_id) {\n",
       "                        if (nbb_cells[i].get_text() == nbb_unformatted_code) {\n",
       "                             nbb_cells[i].set_text(nbb_formatted_code);\n",
       "                        }\n",
       "                        break;\n",
       "                    }\n",
       "                }\n",
       "            }, 500);\n",
       "            "
      ],
      "text/plain": [
       "<IPython.core.display.Javascript object>"
      ]
     },
     "metadata": {},
     "output_type": "display_data"
    }
   ],
   "source": [
    "# Actual vs Fitted\n",
    "result.plot_predict(\n",
    "    start=1, end=60, dynamic=False,\n",
    ")"
   ]
  },
  {
   "cell_type": "markdown",
   "metadata": {},
   "source": [
    "### Train test split "
   ]
  },
  {
   "cell_type": "code",
   "execution_count": 27,
   "metadata": {},
   "outputs": [
    {
     "data": {
      "application/javascript": [
       "\n",
       "            setTimeout(function() {\n",
       "                var nbb_cell_id = 27;\n",
       "                var nbb_unformatted_code = \"n = int(len(df) * 0.8)\\ntrain = df.close[:n]\\ntest = df.close[n:]\";\n",
       "                var nbb_formatted_code = \"n = int(len(df) * 0.8)\\ntrain = df.close[:n]\\ntest = df.close[n:]\";\n",
       "                var nbb_cells = Jupyter.notebook.get_cells();\n",
       "                for (var i = 0; i < nbb_cells.length; ++i) {\n",
       "                    if (nbb_cells[i].input_prompt_number == nbb_cell_id) {\n",
       "                        if (nbb_cells[i].get_text() == nbb_unformatted_code) {\n",
       "                             nbb_cells[i].set_text(nbb_formatted_code);\n",
       "                        }\n",
       "                        break;\n",
       "                    }\n",
       "                }\n",
       "            }, 500);\n",
       "            "
      ],
      "text/plain": [
       "<IPython.core.display.Javascript object>"
      ]
     },
     "metadata": {},
     "output_type": "display_data"
    }
   ],
   "source": [
    "n = int(len(df) * 0.8)\n",
    "train = df.close[:n]\n",
    "test = df.close[n:]"
   ]
  },
  {
   "cell_type": "code",
   "execution_count": 28,
   "metadata": {},
   "outputs": [
    {
     "name": "stdout",
     "output_type": "stream",
     "text": [
      "1402\n",
      "351\n"
     ]
    },
    {
     "data": {
      "application/javascript": [
       "\n",
       "            setTimeout(function() {\n",
       "                var nbb_cell_id = 28;\n",
       "                var nbb_unformatted_code = \"print(len(train))\\nprint(len(test))\";\n",
       "                var nbb_formatted_code = \"print(len(train))\\nprint(len(test))\";\n",
       "                var nbb_cells = Jupyter.notebook.get_cells();\n",
       "                for (var i = 0; i < nbb_cells.length; ++i) {\n",
       "                    if (nbb_cells[i].input_prompt_number == nbb_cell_id) {\n",
       "                        if (nbb_cells[i].get_text() == nbb_unformatted_code) {\n",
       "                             nbb_cells[i].set_text(nbb_formatted_code);\n",
       "                        }\n",
       "                        break;\n",
       "                    }\n",
       "                }\n",
       "            }, 500);\n",
       "            "
      ],
      "text/plain": [
       "<IPython.core.display.Javascript object>"
      ]
     },
     "metadata": {},
     "output_type": "display_data"
    }
   ],
   "source": [
    "print(len(train))\n",
    "print(len(test))"
   ]
  },
  {
   "cell_type": "code",
   "execution_count": 29,
   "metadata": {},
   "outputs": [
    {
     "name": "stderr",
     "output_type": "stream",
     "text": [
      "C:\\Users\\Jitender_bhatt\\Anaconda3\\lib\\site-packages\\statsmodels\\tsa\\arima_model.py:472: FutureWarning: \n",
      "statsmodels.tsa.arima_model.ARMA and statsmodels.tsa.arima_model.ARIMA have\n",
      "been deprecated in favor of statsmodels.tsa.arima.model.ARIMA (note the .\n",
      "between arima and model) and\n",
      "statsmodels.tsa.SARIMAX. These will be removed after the 0.12 release.\n",
      "\n",
      "statsmodels.tsa.arima.model.ARIMA makes use of the statespace framework and\n",
      "is both well tested and maintained.\n",
      "\n",
      "To silence this warning and continue using ARMA and ARIMA until they are\n",
      "removed, use:\n",
      "\n",
      "import warnings\n",
      "warnings.filterwarnings('ignore', 'statsmodels.tsa.arima_model.ARMA',\n",
      "                        FutureWarning)\n",
      "warnings.filterwarnings('ignore', 'statsmodels.tsa.arima_model.ARIMA',\n",
      "                        FutureWarning)\n",
      "\n",
      "  warnings.warn(ARIMA_DEPRECATION_WARN, FutureWarning)\n"
     ]
    },
    {
     "data": {
      "application/javascript": [
       "\n",
       "            setTimeout(function() {\n",
       "                var nbb_cell_id = 29;\n",
       "                var nbb_unformatted_code = \"step = 30\\n\\nmodel = ARIMA(train, order=(6, 1, 3))\\nresult = model.fit(disp=0)\\n\\n# Forecast\\nfc, se, conf = result.forecast(step)\";\n",
       "                var nbb_formatted_code = \"step = 30\\n\\nmodel = ARIMA(train, order=(6, 1, 3))\\nresult = model.fit(disp=0)\\n\\n# Forecast\\nfc, se, conf = result.forecast(step)\";\n",
       "                var nbb_cells = Jupyter.notebook.get_cells();\n",
       "                for (var i = 0; i < nbb_cells.length; ++i) {\n",
       "                    if (nbb_cells[i].input_prompt_number == nbb_cell_id) {\n",
       "                        if (nbb_cells[i].get_text() == nbb_unformatted_code) {\n",
       "                             nbb_cells[i].set_text(nbb_formatted_code);\n",
       "                        }\n",
       "                        break;\n",
       "                    }\n",
       "                }\n",
       "            }, 500);\n",
       "            "
      ],
      "text/plain": [
       "<IPython.core.display.Javascript object>"
      ]
     },
     "metadata": {},
     "output_type": "display_data"
    }
   ],
   "source": [
    "step = 30\n",
    "\n",
    "model = ARIMA(train, order=(6, 1, 3))\n",
    "result = model.fit(disp=0)\n",
    "\n",
    "# Forecast\n",
    "fc, se, conf = result.forecast(step)"
   ]
  },
  {
   "cell_type": "code",
   "execution_count": 30,
   "metadata": {},
   "outputs": [
    {
     "data": {
      "text/plain": [
       "array([184.14010809, 184.16604636, 184.33262611, 184.2740894 ,\n",
       "       184.35742683, 184.44528216, 184.47633691, 184.48711626,\n",
       "       184.53956059, 184.56356054, 184.62423323, 184.65242717,\n",
       "       184.68831041, 184.71499281, 184.76330247, 184.79525278,\n",
       "       184.83818934, 184.86602963, 184.90686509, 184.94005946,\n",
       "       184.98237773, 185.01421144, 185.05355828, 185.08630322,\n",
       "       185.12659463, 185.16063643, 185.19959983, 185.23323745,\n",
       "       185.27193425, 185.30662394])"
      ]
     },
     "execution_count": 30,
     "metadata": {},
     "output_type": "execute_result"
    },
    {
     "data": {
      "application/javascript": [
       "\n",
       "            setTimeout(function() {\n",
       "                var nbb_cell_id = 30;\n",
       "                var nbb_unformatted_code = \"fc\";\n",
       "                var nbb_formatted_code = \"fc\";\n",
       "                var nbb_cells = Jupyter.notebook.get_cells();\n",
       "                for (var i = 0; i < nbb_cells.length; ++i) {\n",
       "                    if (nbb_cells[i].input_prompt_number == nbb_cell_id) {\n",
       "                        if (nbb_cells[i].get_text() == nbb_unformatted_code) {\n",
       "                             nbb_cells[i].set_text(nbb_formatted_code);\n",
       "                        }\n",
       "                        break;\n",
       "                    }\n",
       "                }\n",
       "            }, 500);\n",
       "            "
      ],
      "text/plain": [
       "<IPython.core.display.Javascript object>"
      ]
     },
     "metadata": {},
     "output_type": "display_data"
    }
   ],
   "source": [
    "fc"
   ]
  },
  {
   "cell_type": "code",
   "execution_count": 31,
   "metadata": {},
   "outputs": [
    {
     "data": {
      "text/plain": [
       "array([1.31780876, 1.68237204, 1.97293452, 2.26924138, 2.56432524,\n",
       "       2.83635238, 3.14675151, 3.36329135, 3.58591812, 3.79144687,\n",
       "       4.00937601, 4.20052234, 4.39156872, 4.55918398, 4.7354987 ,\n",
       "       4.89916881, 5.06463979, 5.2155298 , 5.36824292, 5.51198257,\n",
       "       5.65826127, 5.79579847, 5.93353036, 6.06434632, 6.19616281,\n",
       "       6.32250686, 6.44890663, 6.57021029, 6.69146224, 6.80877593])"
      ]
     },
     "execution_count": 31,
     "metadata": {},
     "output_type": "execute_result"
    },
    {
     "data": {
      "application/javascript": [
       "\n",
       "            setTimeout(function() {\n",
       "                var nbb_cell_id = 31;\n",
       "                var nbb_unformatted_code = \"se\";\n",
       "                var nbb_formatted_code = \"se\";\n",
       "                var nbb_cells = Jupyter.notebook.get_cells();\n",
       "                for (var i = 0; i < nbb_cells.length; ++i) {\n",
       "                    if (nbb_cells[i].input_prompt_number == nbb_cell_id) {\n",
       "                        if (nbb_cells[i].get_text() == nbb_unformatted_code) {\n",
       "                             nbb_cells[i].set_text(nbb_formatted_code);\n",
       "                        }\n",
       "                        break;\n",
       "                    }\n",
       "                }\n",
       "            }, 500);\n",
       "            "
      ],
      "text/plain": [
       "<IPython.core.display.Javascript object>"
      ]
     },
     "metadata": {},
     "output_type": "display_data"
    }
   ],
   "source": [
    "se"
   ]
  },
  {
   "cell_type": "code",
   "execution_count": 33,
   "metadata": {},
   "outputs": [
    {
     "data": {
      "text/plain": [
       "array([[181.55725038, 186.7229658 ],\n",
       "       [180.86865775, 187.46343496],\n",
       "       [180.46574551, 188.19950671],\n",
       "       [179.82645803, 188.72172077],\n",
       "       [179.33144172, 189.38341194],\n",
       "       [178.88613365, 190.00443067],\n",
       "       [178.30881728, 190.64385654],\n",
       "       [177.89518634, 191.07904619],\n",
       "       [177.51129022, 191.56783096],\n",
       "       [177.13246121, 191.99465986],\n",
       "       [176.76600065, 192.4824658 ],\n",
       "       [176.41955466, 192.88529968],\n",
       "       [176.08099388, 193.29562694],\n",
       "       [175.7791564 , 193.65082922],\n",
       "       [175.48189557, 194.04470938],\n",
       "       [175.19305836, 194.39744719],\n",
       "       [174.91167776, 194.76470092],\n",
       "       [174.64377907, 195.0882802 ],\n",
       "       [174.3853023 , 195.42842787],\n",
       "       [174.13677214, 195.74334678],\n",
       "       [173.89238943, 196.07236604],\n",
       "       [173.65465519, 196.37376769],\n",
       "       [173.42405249, 196.68306408],\n",
       "       [173.20040285, 196.9722036 ],\n",
       "       [172.98233869, 197.27085058],\n",
       "       [172.76875069, 197.55252217],\n",
       "       [172.55997509, 197.83922457],\n",
       "       [172.35586191, 198.11061298],\n",
       "       [172.15690927, 198.38695924],\n",
       "       [171.96166834, 198.65157955]])"
      ]
     },
     "execution_count": 33,
     "metadata": {},
     "output_type": "execute_result"
    },
    {
     "data": {
      "application/javascript": [
       "\n",
       "            setTimeout(function() {\n",
       "                var nbb_cell_id = 33;\n",
       "                var nbb_unformatted_code = \"conf\";\n",
       "                var nbb_formatted_code = \"conf\";\n",
       "                var nbb_cells = Jupyter.notebook.get_cells();\n",
       "                for (var i = 0; i < nbb_cells.length; ++i) {\n",
       "                    if (nbb_cells[i].input_prompt_number == nbb_cell_id) {\n",
       "                        if (nbb_cells[i].get_text() == nbb_unformatted_code) {\n",
       "                             nbb_cells[i].set_text(nbb_formatted_code);\n",
       "                        }\n",
       "                        break;\n",
       "                    }\n",
       "                }\n",
       "            }, 500);\n",
       "            "
      ],
      "text/plain": [
       "<IPython.core.display.Javascript object>"
      ]
     },
     "metadata": {},
     "output_type": "display_data"
    }
   ],
   "source": [
    "conf"
   ]
  },
  {
   "cell_type": "code",
   "execution_count": 34,
   "metadata": {},
   "outputs": [
    {
     "data": {
      "application/javascript": [
       "\n",
       "            setTimeout(function() {\n",
       "                var nbb_cell_id = 34;\n",
       "                var nbb_unformatted_code = \"fc = pd.Series(fc, index=test[:step].index)\\nlower = pd.Series(conf[:, 0], index=test[:step].index)\\nupper = pd.Series(conf[:, 1], index=test[:step].index)\";\n",
       "                var nbb_formatted_code = \"fc = pd.Series(fc, index=test[:step].index)\\nlower = pd.Series(conf[:, 0], index=test[:step].index)\\nupper = pd.Series(conf[:, 1], index=test[:step].index)\";\n",
       "                var nbb_cells = Jupyter.notebook.get_cells();\n",
       "                for (var i = 0; i < nbb_cells.length; ++i) {\n",
       "                    if (nbb_cells[i].input_prompt_number == nbb_cell_id) {\n",
       "                        if (nbb_cells[i].get_text() == nbb_unformatted_code) {\n",
       "                             nbb_cells[i].set_text(nbb_formatted_code);\n",
       "                        }\n",
       "                        break;\n",
       "                    }\n",
       "                }\n",
       "            }, 500);\n",
       "            "
      ],
      "text/plain": [
       "<IPython.core.display.Javascript object>"
      ]
     },
     "metadata": {},
     "output_type": "display_data"
    }
   ],
   "source": [
    "fc = pd.Series(fc, index=test[:step].index)\n",
    "lower = pd.Series(conf[:, 0], index=test[:step].index)\n",
    "upper = pd.Series(conf[:, 1], index=test[:step].index)"
   ]
  },
  {
   "cell_type": "code",
   "execution_count": 35,
   "metadata": {},
   "outputs": [
    {
     "data": {
      "text/plain": [
       "<matplotlib.legend.Legend at 0x2aaf0b267c0>"
      ]
     },
     "execution_count": 35,
     "metadata": {},
     "output_type": "execute_result"
    },
    {
     "data": {
      "image/png": "[encoded data removed]",
      "text/plain": [
       "<Figure size 1152x576 with 1 Axes>"
      ]
     },
     "metadata": {
      "needs_background": "light"
     },
     "output_type": "display_data"
    },
    {
     "data": {
      "application/javascript": [
       "\n",
       "            setTimeout(function() {\n",
       "                var nbb_cell_id = 35;\n",
       "                var nbb_unformatted_code = \"plt.figure(figsize=(16, 8))\\nplt.plot(test[:step], label=\\\"actual\\\")\\nplt.plot(fc, label=\\\"forecast\\\")\\nplt.fill_between(lower.index, lower, upper, color=\\\"k\\\", alpha=0.1)\\nplt.title(\\\"Forecast vs Actual\\\")\\nplt.legend(loc=\\\"upper left\\\")\";\n",
       "                var nbb_formatted_code = \"plt.figure(figsize=(16, 8))\\nplt.plot(test[:step], label=\\\"actual\\\")\\nplt.plot(fc, label=\\\"forecast\\\")\\nplt.fill_between(lower.index, lower, upper, color=\\\"k\\\", alpha=0.1)\\nplt.title(\\\"Forecast vs Actual\\\")\\nplt.legend(loc=\\\"upper left\\\")\";\n",
       "                var nbb_cells = Jupyter.notebook.get_cells();\n",
       "                for (var i = 0; i < nbb_cells.length; ++i) {\n",
       "                    if (nbb_cells[i].input_prompt_number == nbb_cell_id) {\n",
       "                        if (nbb_cells[i].get_text() == nbb_unformatted_code) {\n",
       "                             nbb_cells[i].set_text(nbb_formatted_code);\n",
       "                        }\n",
       "                        break;\n",
       "                    }\n",
       "                }\n",
       "            }, 500);\n",
       "            "
      ],
      "text/plain": [
       "<IPython.core.display.Javascript object>"
      ]
     },
     "metadata": {},
     "output_type": "display_data"
    }
   ],
   "source": [
    "plt.figure(figsize=(16, 8))\n",
    "plt.plot(test[:step], label=\"actual\")\n",
    "plt.plot(fc, label=\"forecast\")\n",
    "plt.fill_between(lower.index, lower, upper, color=\"k\", alpha=0.1)\n",
    "plt.title(\"Forecast vs Actual\")\n",
    "plt.legend(loc=\"upper left\")"
   ]
  },
  {
   "cell_type": "markdown",
   "metadata": {},
   "source": [
    "### Auto ARIMA"
   ]
  },
  {
   "cell_type": "markdown",
   "metadata": {},
   "source": [
    "The pmdarima package provides an auto_arima method that uses a stepwise approach to search multiple combinations of p,d,q parameters and chooses the best model that has the least AIC."
   ]
  },
  {
   "cell_type": "code",
   "execution_count": 36,
   "metadata": {},
   "outputs": [
    {
     "data": {
      "application/javascript": [
       "\n",
       "            setTimeout(function() {\n",
       "                var nbb_cell_id = 36;\n",
       "                var nbb_unformatted_code = \"from pmdarima.arima import auto_arima\";\n",
       "                var nbb_formatted_code = \"from pmdarima.arima import auto_arima\";\n",
       "                var nbb_cells = Jupyter.notebook.get_cells();\n",
       "                for (var i = 0; i < nbb_cells.length; ++i) {\n",
       "                    if (nbb_cells[i].input_prompt_number == nbb_cell_id) {\n",
       "                        if (nbb_cells[i].get_text() == nbb_unformatted_code) {\n",
       "                             nbb_cells[i].set_text(nbb_formatted_code);\n",
       "                        }\n",
       "                        break;\n",
       "                    }\n",
       "                }\n",
       "            }, 500);\n",
       "            "
      ],
      "text/plain": [
       "<IPython.core.display.Javascript object>"
      ]
     },
     "metadata": {},
     "output_type": "display_data"
    }
   ],
   "source": [
    "from pmdarima.arima import auto_arima"
   ]
  },
  {
   "cell_type": "code",
   "execution_count": 37,
   "metadata": {},
   "outputs": [
    {
     "name": "stdout",
     "output_type": "stream",
     "text": [
      "Performing stepwise search to minimize aic\n",
      " ARIMA(1,1,1)(0,0,0)[0] intercept   : AIC=6040.470, Time=0.43 sec\n",
      " ARIMA(0,1,0)(0,0,0)[0] intercept   : AIC=6096.252, Time=0.05 sec\n",
      " ARIMA(1,1,0)(0,0,0)[0] intercept   : AIC=6039.073, Time=0.08 sec\n",
      " ARIMA(0,1,1)(0,0,0)[0] intercept   : AIC=6039.508, Time=0.14 sec\n",
      " ARIMA(0,1,0)(0,0,0)[0]             : AIC=6096.214, Time=0.03 sec\n",
      " ARIMA(2,1,0)(0,0,0)[0] intercept   : AIC=6040.138, Time=0.21 sec\n",
      " ARIMA(2,1,1)(0,0,0)[0] intercept   : AIC=6041.460, Time=0.66 sec\n",
      " ARIMA(1,1,0)(0,0,0)[0]             : AIC=6039.893, Time=0.07 sec\n",
      "\n",
      "Best model:  ARIMA(1,1,0)(0,0,0)[0] intercept\n",
      "Total fit time: 1.676 seconds\n"
     ]
    },
    {
     "data": {
      "application/javascript": [
       "\n",
       "            setTimeout(function() {\n",
       "                var nbb_cell_id = 37;\n",
       "                var nbb_unformatted_code = \"model = auto_arima(\\n    df.close,\\n    start_p=1,\\n    start_q=1,\\n    test=\\\"adf\\\",\\n    max_p=6,\\n    max_q=6,\\n    m=1,  # frequency of series\\n    d=None,  # determine 'd'\\n    seasonal=False,  # no seasonality\\n    trace=True,\\n    stepwise=True,\\n)\";\n",
       "                var nbb_formatted_code = \"model = auto_arima(\\n    df.close,\\n    start_p=1,\\n    start_q=1,\\n    test=\\\"adf\\\",\\n    max_p=6,\\n    max_q=6,\\n    m=1,  # frequency of series\\n    d=None,  # determine 'd'\\n    seasonal=False,  # no seasonality\\n    trace=True,\\n    stepwise=True,\\n)\";\n",
       "                var nbb_cells = Jupyter.notebook.get_cells();\n",
       "                for (var i = 0; i < nbb_cells.length; ++i) {\n",
       "                    if (nbb_cells[i].input_prompt_number == nbb_cell_id) {\n",
       "                        if (nbb_cells[i].get_text() == nbb_unformatted_code) {\n",
       "                             nbb_cells[i].set_text(nbb_formatted_code);\n",
       "                        }\n",
       "                        break;\n",
       "                    }\n",
       "                }\n",
       "            }, 500);\n",
       "            "
      ],
      "text/plain": [
       "<IPython.core.display.Javascript object>"
      ]
     },
     "metadata": {},
     "output_type": "display_data"
    }
   ],
   "source": [
    "model = auto_arima(\n",
    "    df.close,\n",
    "    start_p=1,\n",
    "    start_q=1,\n",
    "    test=\"adf\",\n",
    "    max_p=6,\n",
    "    max_q=6,\n",
    "    m=1,  # frequency of series\n",
    "    d=None,  # determine 'd'\n",
    "    seasonal=False,  # no seasonality\n",
    "    trace=True,\n",
    "    stepwise=True,\n",
    ")"
   ]
  },
  {
   "cell_type": "code",
   "execution_count": null,
   "metadata": {},
   "outputs": [],
   "source": []
  },
  {
   "cell_type": "code",
   "execution_count": null,
   "metadata": {},
   "outputs": [],
   "source": []
  },
  {
   "cell_type": "code",
   "execution_count": null,
   "metadata": {},
   "outputs": [],
   "source": []
  }
 ],
 "metadata": {
  "kernelspec": {
   "display_name": "Python 3 (ipykernel)",
   "language": "python",
   "name": "python3"
  },
  "language_info": {
   "codemirror_mode": {
    "name": "ipython",
    "version": 3
   },
   "file_extension": ".py",
   "mimetype": "text/x-python",
   "name": "python",
   "nbconvert_exporter": "python",
   "pygments_lexer": "ipython3",
   "version": "3.11.3"
  }
 },
 "nbformat": 4,
 "nbformat_minor": 4
}
